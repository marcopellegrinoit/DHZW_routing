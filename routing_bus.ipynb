{
 "cells": [
  {
   "cell_type": "code",
   "execution_count": 5,
   "id": "d63d88a3",
   "metadata": {},
   "outputs": [],
   "source": [
    "import requests\n",
    "import pandas as pd\n",
    "import numpy as np\n",
    "from shapely.geometry import Point\n",
    "from shapely.geometry.polygon import Polygon\n",
    "import os\n",
    "import geopandas as gpd"
   ]
  },
  {
   "cell_type": "code",
   "execution_count": 6,
   "id": "d45c8699",
   "metadata": {},
   "outputs": [],
   "source": [
    "# Read data\n",
    "\n",
    "os.chdir('C:/Users/6997619/Documents/GitHub projects/DHZW_routing/data')\n",
    "\n",
    "df_PC6_Moerwijk = gpd.read_file('C:/Users/6997619/Documents/GitHub projects/DHZW_shapefiles/data/processed/shapefiles/df_PC6_station_shp/df_PC6_station_shp.shp')\n",
    "df_PC6_DHZW = gpd.read_file('C:/Users/6997619/Documents/GitHub projects/DHZW_shapefiles/data/processed/shapefiles/PC6_DHZW_shp/PC6_DHZW_shp.shp')\n",
    "df = pd.read_csv('OD_asymmetric.csv')"
   ]
  },
  {
   "cell_type": "code",
   "execution_count": 7,
   "id": "777161f6",
   "metadata": {},
   "outputs": [],
   "source": [
    "# Set up variables\n",
    "df['time_total'] = np.nan\n",
    "df['time_walk'] = np.nan\n",
    "df['time_transit_bus'] = np.nan\n",
    "df['time_transit_train'] = np.nan\n",
    "df['time_waiting'] = np.nan\n",
    "df['n_changes'] = np.nan\n",
    "df['distance_total'] = np.nan\n",
    "df['distance_walk'] = np.nan\n",
    "df['distance_bus'] = np.nan\n",
    "df['distance_train'] = np.nan\n",
    "df['stop_PC6'] = np.nan\n",
    "\n",
    "# Filter out trips that are completely inside or outside DHZW\n",
    "df = df[(df['departure_in_DHZW'] == 1) & (df['arrival_in_DHZW'] == 0) |\n",
    "        (df['departure_in_DHZW'] == 0) & (df['arrival_in_DHZW'] == 1)]\n"
   ]
  },
  {
   "cell_type": "code",
   "execution_count": 27,
   "id": "c4448458",
   "metadata": {},
   "outputs": [],
   "source": [
    "# Function to call the OpenTripPlanner REST API\n",
    "def call_otp(from_x, from_y, to_x, to_y):\n",
    "    base_url = \"http://localhost:8801/otp/routers/default/plan?\"\n",
    "    params = {\n",
    "        \"fromPlace\": f\"{from_y},{from_x}\",\n",
    "        \"toPlace\": f\"{to_y},{to_x}\",\n",
    "        \"mode\": 'WALK,BUS,TRAM,SUBWAY',\n",
    "        \"date\": \"2023-02-09\",\n",
    "        \"time\": \"08:00:00\",\n",
    "        \"arriveBy\": \"false\",\n",
    "    }\n",
    "    try:\n",
    "        response = requests.get(base_url, params=params)\n",
    "        response.raise_for_status()\n",
    "        return response.json()\n",
    "    except RequestException as e:\n",
    "        print(e)\n",
    "        return None"
   ]
  },
  {
   "cell_type": "code",
   "execution_count": 28,
   "id": "c4f6fe52",
   "metadata": {},
   "outputs": [],
   "source": [
    "def find_bus_stop_within_DHZW(route, found_train_via_Moerwijk):\n",
    "    found = False\n",
    "    # If the train goes through Moerwijk, return the Moerwijk bus stop\n",
    "    if found_train_via_Moerwijk:\n",
    "        return '2532CP'\n",
    "    else:\n",
    "        # Look for the bus stop within DHZW\n",
    "        for _, leg in route.iterrows():\n",
    "            if leg['leg_mode'] in ['BUS', 'TRAM', 'SUBWAY']:\n",
    "                line = LineString(leg['geometry']['coordinates'])\n",
    "                # Retrieve start point of the leg\n",
    "                point_1 = Point(line.coords[0])\n",
    "                # Find if there is one of the postcodes of the DHZW matches with the departure or arrival\n",
    "                if df_PC6_DHZW.intersects(point_1).any():\n",
    "                    found = True\n",
    "                    break\n",
    "        if found:\n",
    "            return df_PC6_DHZW_postcodes.iloc[0]['PC6']\n",
    "        else:\n",
    "            return np.nan"
   ]
  },
  {
   "cell_type": "code",
   "execution_count": 31,
   "id": "778bbd9f",
   "metadata": {},
   "outputs": [
    {
     "name": "stdout",
     "output_type": "stream",
     "text": [
      "0.01\n",
      "[]\n"
     ]
    },
    {
     "ename": "ValueError",
     "evalue": "min() arg is an empty sequence",
     "output_type": "error",
     "traceback": [
      "\u001b[1;31m---------------------------------------------------------------------------\u001b[0m",
      "\u001b[1;31mValueError\u001b[0m                                Traceback (most recent call last)",
      "Input \u001b[1;32mIn [31]\u001b[0m, in \u001b[0;36m<cell line: 1>\u001b[1;34m()\u001b[0m\n\u001b[0;32m     12\u001b[0m \u001b[38;5;28mprint\u001b[39m(itineraries)\n\u001b[0;32m     15\u001b[0m \u001b[38;5;66;03m# select the fastest option\u001b[39;00m\n\u001b[1;32m---> 16\u001b[0m fastest_itinerary \u001b[38;5;241m=\u001b[39m \u001b[38;5;28;43mmin\u001b[39;49m\u001b[43m(\u001b[49m\u001b[43mitineraries\u001b[49m\u001b[43m,\u001b[49m\u001b[43m \u001b[49m\u001b[43mkey\u001b[49m\u001b[38;5;241;43m=\u001b[39;49m\u001b[38;5;28;43;01mlambda\u001b[39;49;00m\u001b[43m \u001b[49m\u001b[43mit\u001b[49m\u001b[43m:\u001b[49m\u001b[43m \u001b[49m\u001b[43mit\u001b[49m\u001b[43m[\u001b[49m\u001b[38;5;124;43m'\u001b[39;49m\u001b[38;5;124;43mduration\u001b[39;49m\u001b[38;5;124;43m'\u001b[39;49m\u001b[43m]\u001b[49m\u001b[43m)\u001b[49m\n\u001b[0;32m     19\u001b[0m \u001b[38;5;66;03m# filter the faster route\u001b[39;00m\n\u001b[0;32m     20\u001b[0m legs \u001b[38;5;241m=\u001b[39m fastest_itinerary[\u001b[38;5;124m'\u001b[39m\u001b[38;5;124mlegs\u001b[39m\u001b[38;5;124m'\u001b[39m]\n",
      "\u001b[1;31mValueError\u001b[0m: min() arg is an empty sequence"
     ]
    }
   ],
   "source": [
    "for i in range(1, 2):\n",
    "    print(round(((i/df.shape[0])*100), 2))\n",
    "\n",
    "    otp_data = call_otp(str(df.loc[i-1, 'departure_x']), str(df.loc[i-1, 'departure_y']), str(df.loc[i-1, 'arrival_x']), str(df.loc[i-1, 'arrival_y']))\n",
    "    itineraries = otp_data['plan']['itineraries']\n",
    "            \n",
    "    # check if there are at least two itineraries. if it was only foot, there would be only one itinerary\n",
    "    if len(itineraries) > 1:\n",
    "        # filter out itineraries that are only by foot\n",
    "        itineraries = [it for it in itineraries if 'WALK' not in [leg['mode'] for leg in it['legs']]]\n",
    "\n",
    "        print(itineraries)\n",
    "\n",
    "            \n",
    "        # select the fastest option\n",
    "        fastest_itinerary = min(itineraries, key=lambda it: it['duration'])\n",
    "        \n",
    "        \n",
    "        # filter the faster route\n",
    "        legs = fastest_itinerary['legs']\n",
    "        legs_data = []\n",
    "        for leg in legs:\n",
    "            legs_data.append({\n",
    "                'fromPlace': leg['from']['name'],\n",
    "                'toPlace': leg['to']['name'],\n",
    "                'duration': leg['duration']/60,\n",
    "                'distance': leg['distance']/1000,\n",
    "                'mode': leg['mode'],\n",
    "                'route': leg['route'] if 'route' in leg else '',\n",
    "                'route_short_name': leg['routeShortName'] if 'routeShortName' in leg else '',\n",
    "                'start_time': leg['startTime']\n",
    "            })\n",
    "\n",
    "        time_total = round(fastest_itinerary['duration']/60, 1)\n",
    "        time_walk = round(fastest_itinerary['walkTime']/60, 1)\n",
    "        time_transit = round(fastest_itinerary['transitTime']/60, 1)\n",
    "        time_waiting = round(fastest_itinerary['waitingTime']/60, 1)\n",
    "        n_changes = len(fastest_itinerary['legs']) - 1\n",
    "\n",
    "        distance_total = round(sum([leg['distance'] for leg in legs])/1000, 1)\n",
    "        distance_walk = round(fastest_itinerary['walkDistance']/1000, 1)\n",
    "        distance_transit = round(distance_total - distance_walk, 1)\n",
    "\n",
    "        df.at[i-1, 'time_total'] = time_total\n",
    "        df.at[i-1, 'time_walk'] = time_walk\n",
    "        df.at[i-1, 'time_transit'] = time_transit\n",
    "        df.at[i-1, 'time_waiting'] = time_waiting\n",
    "\n",
    "        df.at[i-1, 'n_changes'] = n_changes"
   ]
  },
  {
   "cell_type": "code",
   "execution_count": null,
   "id": "f38e5337",
   "metadata": {},
   "outputs": [],
   "source": []
  },
  {
   "cell_type": "code",
   "execution_count": null,
   "id": "c4578f31",
   "metadata": {},
   "outputs": [],
   "source": []
  }
 ],
 "metadata": {
  "kernelspec": {
   "display_name": "dhzw_env",
   "language": "python",
   "name": "dhzw_env"
  },
  "language_info": {
   "codemirror_mode": {
    "name": "ipython",
    "version": 3
   },
   "file_extension": ".py",
   "mimetype": "text/x-python",
   "name": "python",
   "nbconvert_exporter": "python",
   "pygments_lexer": "ipython3",
   "version": "3.9.13"
  }
 },
 "nbformat": 4,
 "nbformat_minor": 5
}
